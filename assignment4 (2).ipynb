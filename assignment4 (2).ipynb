{
 "cells": [
  {
   "cell_type": "code",
   "execution_count": null,
   "id": "014981c1-5f08-4c2f-8ed1-a22940368ca5",
   "metadata": {},
   "outputs": [],
   "source": [
    "  #Answer: 1\n",
    "   \n",
    "The long-term trend indicates the very long-term behavior of the time series, typically as a straight line or an\n",
    "exponential curve. The exactly repeating seasonal component indicates the effects of the time of year. \n",
    "The medium-term cyclic component consists of the gradual ups and downs that do not repeat each year."
   ]
  },
  {
   "cell_type": "code",
   "execution_count": null,
   "id": "061d8e88-16f5-47e4-b398-4cb305147f7c",
   "metadata": {},
   "outputs": [],
   "source": [
    "  #Answer: 2\n",
    "    \n",
    "We begin by averaging a year's worth of data at a time in order to eliminate the seasonal component and reduce \n",
    "the irregular component. A moving average is a new series created by averaging nearby observations of a time series \n",
    "and then moving along to the next period; this produces a less bumpy series.   "
   ]
  },
  {
   "cell_type": "code",
   "execution_count": null,
   "id": "a8b9f259-5dec-4948-b515-2f09f0334356",
   "metadata": {},
   "outputs": [],
   "source": [
    "  #Answer: 3\n",
    "   \n",
    "Seasonality may be caused by various factors, such as weather, vacation, and holidays and consists of periodic, \n",
    "repetitive, and generally regular and predictable patterns in the levels of a time series.\n",
    "Seasonal fluctuations in a time series can be contrasted with cyclical patterns."
   ]
  },
  {
   "cell_type": "code",
   "execution_count": null,
   "id": "5e08539d-27ed-4ff6-afd1-8fc4f0efde0c",
   "metadata": {},
   "outputs": [],
   "source": [
    "  #Answer: 4\n",
    "   \n",
    "The autoregressive model predicts the future based on the previous data. \n",
    "A lot of technical analysts use them to predict future security prices. \n",
    "In this type of analysis, time series values are correlated with their predecessors and successors."
   ]
  },
  {
   "cell_type": "code",
   "execution_count": null,
   "id": "44854e50-52f5-4b99-9d00-954ca31238ad",
   "metadata": {},
   "outputs": [],
   "source": [
    "  #Answer: 5\n",
    "   \n",
    "The central idea behind autoregressive models is to predict the next value in a vector time series by using the \n",
    "squared coefficient of previous values. The autoregressive models are the statistical models that have worked well\n",
    "for us in various applications, such as time series forecasting and financial forecasting."
   ]
  },
  {
   "cell_type": "code",
   "execution_count": null,
   "id": "460a734a-9c0a-4808-aa25-96a2a8e7d578",
   "metadata": {},
   "outputs": [],
   "source": [
    "  #Answer: 6\n",
    "   \n",
    "The moving average model is a time series model that accounts for very short-run autocorrelation.\n",
    "It basically states that the next observation is the mean of every past observation. \n",
    "The order of the moving average model, q, can usually be estimated by looking at the ACF plot of the time series."
   ]
  },
  {
   "cell_type": "code",
   "execution_count": null,
   "id": "f27e4602-0cdd-45b1-82b3-8c5ed923e360",
   "metadata": {},
   "outputs": [],
   "source": [
    "  #Answer: 7\n",
    "   \n",
    "ARMA (Autoregressive Moving Average): This model combines both AR and MA components.\n",
    "ARIMA (Autoregressive Integrated Moving Average): This model adds an “I” (integrated) component,\n",
    "which involves differencing the series to make it stationary before applying an ARMA model."
   ]
  }
 ],
 "metadata": {
  "kernelspec": {
   "display_name": "Python 3 (ipykernel)",
   "language": "python",
   "name": "python3"
  },
  "language_info": {
   "codemirror_mode": {
    "name": "ipython",
    "version": 3
   },
   "file_extension": ".py",
   "mimetype": "text/x-python",
   "name": "python",
   "nbconvert_exporter": "python",
   "pygments_lexer": "ipython3",
   "version": "3.10.8"
  }
 },
 "nbformat": 4,
 "nbformat_minor": 5
}
